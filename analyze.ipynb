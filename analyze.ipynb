{
 "metadata": {
  "language_info": {
   "codemirror_mode": {
    "name": "ipython",
    "version": 3
   },
   "file_extension": ".py",
   "mimetype": "text/x-python",
   "name": "python",
   "nbconvert_exporter": "python",
   "pygments_lexer": "ipython3",
   "version": "3.9.2-final"
  },
  "orig_nbformat": 2,
  "kernelspec": {
   "name": "Python 3.9.2 64-bit",
   "display_name": "Python 3.9.2 64-bit",
   "metadata": {
    "interpreter": {
     "hash": "767d51c1340bd893661ea55ea3124f6de3c7a262a8b4abca0554b478b1e2ff90"
    }
   }
  }
 },
 "nbformat": 4,
 "nbformat_minor": 2,
 "cells": [
  {
   "source": [
    "### Imports"
   ],
   "cell_type": "markdown",
   "metadata": {}
  },
  {
   "source": [
    "import json\n",
    "import pprint\n",
    "import pathlib\n",
    "from AlpacaTrade import AlpacaTrade\n",
    "from TradingAlgorithms import MeanReversion\n",
    "\n",
    "# Get the parent directories path so we don't have to hardcode\n",
    "path = pathlib.Path().cwd()"
   ],
   "cell_type": "code",
   "metadata": {},
   "execution_count": 76,
   "outputs": []
  },
  {
   "cell_type": "code",
   "execution_count": 77,
   "metadata": {},
   "outputs": [],
   "source": [
    "def save_results(to_json, file_name=\"results.json\"):\n",
    "    with open(path / file_name, \"w\") as out_file:\n",
    "        json.dump(to_json, out_file)\n"
   ]
  },
  {
   "cell_type": "code",
   "execution_count": 78,
   "metadata": {},
   "outputs": [],
   "source": [
    "def float_range(start=0, stop=1, step=1):\n",
    "    while start < stop:\n",
    "        yield float(start)\n",
    "        start = round(start + step, 3)\n"
   ]
  },
  {
   "cell_type": "code",
   "execution_count": 79,
   "metadata": {},
   "outputs": [],
   "source": [
    "diff_range = list(float_range(-20, 20, 0.5))"
   ]
  },
  {
   "source": [
    "### Add tickers to analyze"
   ],
   "cell_type": "markdown",
   "metadata": {}
  },
  {
   "cell_type": "code",
   "execution_count": 80,
   "metadata": {},
   "outputs": [],
   "source": [
    "# Setup the dictionary with tickers and price lists\n",
    "tickers = {\n",
    "    \"SINT\": {},\n",
    "    \"VISL\": {},\n",
    "}"
   ]
  },
  {
   "cell_type": "code",
   "execution_count": 81,
   "metadata": {},
   "outputs": [],
   "source": [
    "for ticker in tickers:\n",
    "    prices = AlpacaTrade.get_historical_data(ticker, limit=400, to_return={\"c\"})\n",
    "    best_days = MeanReversion.get_best_settings(\n",
    "        prices,\n",
    "        num_best=10,\n",
    "        diff_range=diff_range,\n",
    "        day_range=range(1, 10),\n",
    "        data_splits=range(10),\n",
    "    )\n",
    "\n",
    "    tickers[ticker][\"best_days\"] = best_days"
   ]
  },
  {
   "cell_type": "code",
   "execution_count": 83,
   "metadata": {},
   "outputs": [
    {
     "output_type": "stream",
     "name": "stdout",
     "text": [
      "{ 'SINT': { 'best_days': [ { 'data_points': 46,\n                             'mvg_avg_days': 2,\n                             'percent_diff': -6.0,\n                             'percent_gain': 489.22204060012837,\n                             'starting_price': 1.54,\n                             'total_profit': 3.983999999999999},\n                           { 'data_points': 46,\n                             'mvg_avg_days': 2,\n                             'percent_diff': -7.0,\n                             'percent_gain': 494.9534100463363,\n                             'starting_price': 1.54,\n                             'total_profit': 3.9400000000000004},\n                           { 'data_points': 46,\n                             'mvg_avg_days': 1,\n                             'percent_diff': -8.0,\n                             'percent_gain': 493.6596539782099,\n                             'starting_price': 1.51,\n                             'total_profit': 3.9070000000000022},\n                           { 'data_points': 46,\n                             'mvg_avg_days': 3,\n                             'percent_diff': 6.0,\n                             'percent_gain': 399.5049405583285,\n                             'starting_price': 1.39,\n                             'total_profit': 3.904},\n                           { 'data_points': 46,\n                             'mvg_avg_days': 1,\n                             'percent_diff': -9.0,\n                             'percent_gain': 495.0982254660511,\n                             'starting_price': 1.51,\n                             'total_profit': 3.8480000000000034},\n                           { 'data_points': 46,\n                             'mvg_avg_days': 2,\n                             'percent_diff': -7.5,\n                             'percent_gain': 465.5832678806176,\n                             'starting_price': 1.54,\n                             'total_profit': 3.756000000000001},\n                           { 'data_points': 46,\n                             'mvg_avg_days': 4,\n                             'percent_diff': 5.0,\n                             'percent_gain': 403.33034576397455,\n                             'starting_price': 1.39,\n                             'total_profit': 3.7379999999999995},\n                           { 'data_points': 46,\n                             'mvg_avg_days': 3,\n                             'percent_diff': 6.5,\n                             'percent_gain': 383.57714877965475,\n                             'starting_price': 1.39,\n                             'total_profit': 3.7009999999999996},\n                           { 'data_points': 46,\n                             'mvg_avg_days': 3,\n                             'percent_diff': 5.0,\n                             'percent_gain': 383.274608605357,\n                             'starting_price': 1.39,\n                             'total_profit': 3.651},\n                           { 'data_points': 46,\n                             'mvg_avg_days': 2,\n                             'percent_diff': -8.5,\n                             'percent_gain': 417.5239756259067,\n                             'starting_price': 1.54,\n                             'total_profit': 3.6500000000000012}]},\n  'VISL': { 'best_days': [ { 'data_points': 46,\n                             'mvg_avg_days': 1,\n                             'percent_diff': 10.0,\n                             'percent_gain': 984.325274386975,\n                             'starting_price': 0.69,\n                             'total_profit': 4.909000000000001},\n                           { 'data_points': 46,\n                             'mvg_avg_days': 1,\n                             'percent_diff': 10.5,\n                             'percent_gain': 984.9281138371616,\n                             'starting_price': 0.59,\n                             'total_profit': 4.899},\n                           { 'data_points': 46,\n                             'mvg_avg_days': 1,\n                             'percent_diff': -10.5,\n                             'percent_gain': 1104.3444050840021,\n                             'starting_price': 0.83,\n                             'total_profit': 4.879999999999998},\n                           { 'data_points': 46,\n                             'mvg_avg_days': 1,\n                             'percent_diff': -11.5,\n                             'percent_gain': 1065.173004245176,\n                             'starting_price': 0.83,\n                             'total_profit': 4.614999999999998},\n                           { 'data_points': 46,\n                             'mvg_avg_days': 1,\n                             'percent_diff': -11.0,\n                             'percent_gain': 1065.173004245176,\n                             'starting_price': 0.83,\n                             'total_profit': 4.614999999999998},\n                           { 'data_points': 46,\n                             'mvg_avg_days': 2,\n                             'percent_diff': 11.5,\n                             'percent_gain': 985.9985505774727,\n                             'starting_price': 0.69,\n                             'total_profit': 4.593999999999999},\n                           { 'data_points': 46,\n                             'mvg_avg_days': 4,\n                             'percent_diff': -15.5,\n                             'percent_gain': 962.8523695684555,\n                             'starting_price': 0.81,\n                             'total_profit': 4.561},\n                           { 'data_points': 46,\n                             'mvg_avg_days': 4,\n                             'percent_diff': -15.0,\n                             'percent_gain': 964.2719609509204,\n                             'starting_price': 0.81,\n                             'total_profit': 4.463},\n                           { 'data_points': 46,\n                             'mvg_avg_days': 4,\n                             'percent_diff': -14.5,\n                             'percent_gain': 948.8427597066657,\n                             'starting_price': 0.81,\n                             'total_profit': 4.403},\n                           { 'data_points': 46,\n                             'mvg_avg_days': 4,\n                             'percent_diff': -14.0,\n                             'percent_gain': 948.8427597066657,\n                             'starting_price': 0.81,\n                             'total_profit': 4.403}]}}\n[{'total_profit': 3.983999999999999, 'percent_gain': 489.22204060012837, 'mvg_avg_days': 2, 'percent_diff': -6.0, 'starting_price': 1.54, 'data_points': 46}, {'total_profit': 3.9400000000000004, 'percent_gain': 494.9534100463363, 'mvg_avg_days': 2, 'percent_diff': -7.0, 'starting_price': 1.54, 'data_points': 46}, {'total_profit': 3.9070000000000022, 'percent_gain': 493.6596539782099, 'mvg_avg_days': 1, 'percent_diff': -8.0, 'starting_price': 1.51, 'data_points': 46}, {'total_profit': 3.904, 'percent_gain': 399.5049405583285, 'mvg_avg_days': 3, 'percent_diff': 6.0, 'starting_price': 1.39, 'data_points': 46}, {'total_profit': 3.8480000000000034, 'percent_gain': 495.0982254660511, 'mvg_avg_days': 1, 'percent_diff': -9.0, 'starting_price': 1.51, 'data_points': 46}, {'total_profit': 3.756000000000001, 'percent_gain': 465.5832678806176, 'mvg_avg_days': 2, 'percent_diff': -7.5, 'starting_price': 1.54, 'data_points': 46}, {'total_profit': 3.7379999999999995, 'percent_gain': 403.33034576397455, 'mvg_avg_days': 4, 'percent_diff': 5.0, 'starting_price': 1.39, 'data_points': 46}, {'total_profit': 3.7009999999999996, 'percent_gain': 383.57714877965475, 'mvg_avg_days': 3, 'percent_diff': 6.5, 'starting_price': 1.39, 'data_points': 46}, {'total_profit': 3.651, 'percent_gain': 383.274608605357, 'mvg_avg_days': 3, 'percent_diff': 5.0, 'starting_price': 1.39, 'data_points': 46}, {'total_profit': 3.6500000000000012, 'percent_gain': 417.5239756259067, 'mvg_avg_days': 2, 'percent_diff': -8.5, 'starting_price': 1.54, 'data_points': 46}]\n"
     ]
    }
   ],
   "source": [
    "### Display results\n",
    "pp = pprint.PrettyPrinter(indent=2).pprint(tickers)\n",
    "print(tickers[\"SINT\"][\"best_days\"])"
   ]
  },
  {
   "cell_type": "code",
   "execution_count": 51,
   "metadata": {},
   "outputs": [],
   "source": [
    "save_results(tickers)"
   ]
  }
 ]
}